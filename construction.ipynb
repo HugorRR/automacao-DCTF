{
 "cells": [
  {
   "cell_type": "code",
   "execution_count": 31,
   "id": "7be6959d",
   "metadata": {},
   "outputs": [],
   "source": [
    "import undetected_chromedriver as uc\n",
    "from selenium.webdriver.chrome.options import Options\n",
    "from selenium.webdriver.common.by import By\n",
    "from selenium.webdriver.support.ui import WebDriverWait\n",
    "from selenium.webdriver.support import expected_conditions as EC\n",
    "import time\n",
    "\n",
    "URL = 'https://cav.receita.fazenda.gov.br/autenticacao/login'\n",
    "\n",
    "options = uc.ChromeOptions()\n",
    "# Você pode adicionar argumentos se quiser usar o mesmo perfil do projeto:\n",
    "# options.add_argument('--user-data-dir=perfil-path')\n",
    "driver = uc.Chrome(options=options)\n",
    "driver.get(URL)\n",
    "driver.maximize_window()"
   ]
  },
  {
   "cell_type": "code",
   "execution_count": 50,
   "id": "99eb223a",
   "metadata": {},
   "outputs": [],
   "source": [
    "iframe1 = WebDriverWait(driver, 10).until(EC.presence_of_element_located((By.XPATH, '//*[@id=\"frmApp\"]')))\n",
    "driver.switch_to.frame(iframe1)"
   ]
  },
  {
   "cell_type": "code",
   "execution_count": 45,
   "id": "807c2c74",
   "metadata": {},
   "outputs": [],
   "source": [
    "\n",
    "iframe2 = WebDriverWait(driver, 10).until(EC.presence_of_element_located((By.XPATH, '//*[@id=\"conteudo-pagina\"]/div[2]/iframe'))) # Iframe do site\n",
    "driver.switch_to.frame(iframe2)\n",
    "\n"
   ]
  },
  {
   "cell_type": "code",
   "execution_count": 46,
   "id": "c4f8112c",
   "metadata": {},
   "outputs": [],
   "source": [
    "driver.find_element(By.XPATH, '//*[@id=\"checkbox\"]').click()"
   ]
  },
  {
   "cell_type": "code",
   "execution_count": 51,
   "id": "144217f2",
   "metadata": {},
   "outputs": [],
   "source": [
    "bt_prosseguir = WebDriverWait(driver, 7).until(EC.element_to_be_clickable((By.ID, 'ctl00_cphConteudo_btnProsseguir'))) # Botao Prosseguir\n",
    "bt_prosseguir.click()"
   ]
  },
  {
   "cell_type": "code",
   "execution_count": 48,
   "id": "cd7ecd08",
   "metadata": {},
   "outputs": [],
   "source": [
    "driver.switch_to.default_content()"
   ]
  },
  {
   "cell_type": "code",
   "execution_count": 47,
   "id": "0047cd89",
   "metadata": {},
   "outputs": [
    {
     "name": "stdout",
     "output_type": "stream",
     "text": [
      "Ainda tenho 11 iframes na página principal\n"
     ]
    }
   ],
   "source": [
    "driver.switch_to.default_content()\n",
    "iframes = driver.find_elements(By.TAG_NAME, \"iframe\")\n",
    "print(f\"Ainda tenho {len(iframes)} iframes na página principal\")\n"
   ]
  }
 ],
 "metadata": {
  "kernelspec": {
   "display_name": "venv",
   "language": "python",
   "name": "python3"
  },
  "language_info": {
   "codemirror_mode": {
    "name": "ipython",
    "version": 3
   },
   "file_extension": ".py",
   "mimetype": "text/x-python",
   "name": "python",
   "nbconvert_exporter": "python",
   "pygments_lexer": "ipython3",
   "version": "3.13.3"
  }
 },
 "nbformat": 4,
 "nbformat_minor": 5
}
