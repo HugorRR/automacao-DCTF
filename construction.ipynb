{
 "cells": [
  {
   "cell_type": "code",
   "execution_count": null,
   "id": "7be6959d",
   "metadata": {},
   "outputs": [
    {
     "ename": "",
     "evalue": "",
     "output_type": "error",
     "traceback": [
      "\u001b[1;31mRunning cells with 'Python 3.13.3' requires the ipykernel package.\n",
      "\u001b[1;31m<a href='command:jupyter.createPythonEnvAndSelectController'>Create a Python Environment</a> with the required packages.\n",
      "\u001b[1;31mOr install 'ipykernel' using the command: '\"c:/Program Files/Python313/python3.13t.exe\" -m pip install ipykernel -U --user --force-reinstall'"
     ]
    }
   ],
   "source": [
    "import undetected_chromedriver as uc\n",
    "from selenium.webdriver.chrome.options import Options\n",
    "import time\n",
    "\n",
    "URL = 'https://cav.receita.fazenda.gov.br/autenticacao/login'\n",
    "\n",
    "options = uc.ChromeOptions()\n",
    "# Você pode adicionar argumentos se quiser usar o mesmo perfil do projeto:\n",
    "# options.add_argument('--user-data-dir=perfil-path')\n",
    "driver = uc.Chrome(options=options)\n",
    "driver.get(URL)\n",
    "driver.maximize_window()"
   ]
  },
  {
   "cell_type": "code",
   "execution_count": null,
   "id": "f7ab36bf",
   "metadata": {},
   "outputs": [],
   "source": [
    "from selenium.webdriver.common.by import By\n",
    "from selenium.webdriver.support.ui import WebDriverWait\n",
    "from selenium.webdriver.support import expected_conditions as EC\n",
    "import time\n",
    "\n",
    "wait = WebDriverWait(driver, 20)\n",
    "\n",
    "# 1. Troca para o iframe\n",
    "iframe = wait.until(EC.presence_of_element_located((By.ID, \"frmApp\")))\n",
    "driver.switch_to.frame(iframe)\n",
    "\n",
    "# 2. Clique no primeiro elemento\n",
    "WebDriverWait(driver, 30).until(EC.presence_of_element_located((By.XPATH, '//*[@id=\"ctl00_cphConteudo_tabelaListagemDctf_GridViewDctfs_ctl02_lbkVisualizarDctf\"]'))).click()\n",
    "time.sleep(5)\n",
    "\n",
    "# Troque para o iframe novamente, se necessário\n",
    "driver.switch_to.default_content()\n",
    "\n",
    "\n",
    "\n",
    "\n",
    "\n",
    "\n",
    "\n",
    "\n",
    "\n"
   ]
  },
  {
   "cell_type": "code",
   "execution_count": null,
   "id": "cd7ecd08",
   "metadata": {},
   "outputs": [],
   "source": [
    "driver.switch_to.default_content()"
   ]
  }
 ],
 "metadata": {
  "kernelspec": {
   "display_name": "Python 3",
   "language": "python",
   "name": "python3"
  },
  "language_info": {
   "codemirror_mode": {
    "name": "ipython",
    "version": 3
   },
   "file_extension": ".py",
   "mimetype": "text/x-python",
   "name": "python",
   "nbconvert_exporter": "python",
   "pygments_lexer": "ipython3",
   "version": "3.13.3"
  }
 },
 "nbformat": 4,
 "nbformat_minor": 5
}
